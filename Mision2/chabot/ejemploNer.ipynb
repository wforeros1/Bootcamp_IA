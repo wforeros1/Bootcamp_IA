{
 "cells": [
  {
   "cell_type": "code",
   "execution_count": 20,
   "id": "4e5b9d92",
   "metadata": {},
   "outputs": [],
   "source": [
    "from transformers import pipeline"
   ]
  },
  {
   "cell_type": "code",
   "execution_count": 21,
   "id": "20f8d6d2",
   "metadata": {},
   "outputs": [
    {
     "name": "stderr",
     "output_type": "stream",
     "text": [
      "No model was supplied, defaulted to dbmdz/bert-large-cased-finetuned-conll03-english and revision 4c53496 (https://huggingface.co/dbmdz/bert-large-cased-finetuned-conll03-english).\n",
      "Using a pipeline without specifying a model name and revision in production is not recommended.\n",
      "Some weights of the model checkpoint at dbmdz/bert-large-cased-finetuned-conll03-english were not used when initializing BertForTokenClassification: ['bert.pooler.dense.bias', 'bert.pooler.dense.weight']\n",
      "- This IS expected if you are initializing BertForTokenClassification from the checkpoint of a model trained on another task or with another architecture (e.g. initializing a BertForSequenceClassification model from a BertForPreTraining model).\n",
      "- This IS NOT expected if you are initializing BertForTokenClassification from the checkpoint of a model that you expect to be exactly identical (initializing a BertForSequenceClassification model from a BertForSequenceClassification model).\n",
      "Device set to use cpu\n"
     ]
    }
   ],
   "source": [
    "ner_1 =pipeline('ner')"
   ]
  },
  {
   "cell_type": "code",
   "execution_count": 24,
   "id": "b9ed03b2",
   "metadata": {},
   "outputs": [
    {
     "data": {
      "text/plain": [
       "[{'entity': 'I-PER',\n",
       "  'score': np.float32(0.90358615),\n",
       "  'index': 5,\n",
       "  'word': 'Pedro',\n",
       "  'start': 13,\n",
       "  'end': 18},\n",
       " {'entity': 'I-PER',\n",
       "  'score': np.float32(0.46820834),\n",
       "  'index': 10,\n",
       "  'word': '##o',\n",
       "  'start': 27,\n",
       "  'end': 28},\n",
       " {'entity': 'I-ORG',\n",
       "  'score': np.float32(0.9988009),\n",
       "  'index': 15,\n",
       "  'word': 'Warner',\n",
       "  'start': 42,\n",
       "  'end': 48},\n",
       " {'entity': 'I-ORG',\n",
       "  'score': np.float32(0.9984528),\n",
       "  'index': 16,\n",
       "  'word': 'Bros',\n",
       "  'start': 49,\n",
       "  'end': 53},\n",
       " {'entity': 'I-ORG',\n",
       "  'score': np.float32(0.7449488),\n",
       "  'index': 17,\n",
       "  'word': '.',\n",
       "  'start': 53,\n",
       "  'end': 54},\n",
       " {'entity': 'I-ORG',\n",
       "  'score': np.float32(0.98747045),\n",
       "  'index': 18,\n",
       "  'word': 'So',\n",
       "  'start': 55,\n",
       "  'end': 57},\n",
       " {'entity': 'I-ORG',\n",
       "  'score': np.float32(0.88433284),\n",
       "  'index': 19,\n",
       "  'word': '##y',\n",
       "  'start': 57,\n",
       "  'end': 58},\n",
       " {'entity': 'I-ORG',\n",
       "  'score': np.float32(0.6986705),\n",
       "  'index': 20,\n",
       "  'word': 'de',\n",
       "  'start': 59,\n",
       "  'end': 61},\n",
       " {'entity': 'I-LOC',\n",
       "  'score': np.float32(0.8222423),\n",
       "  'index': 21,\n",
       "  'word': 'Peru',\n",
       "  'start': 62,\n",
       "  'end': 66}]"
      ]
     },
     "execution_count": 24,
     "metadata": {},
     "output_type": "execute_result"
    }
   ],
   "source": [
    "ner_1('Mi nombre es Pedro y trabajo en el parque Warner Bros. Soy de Peru')"
   ]
  },
  {
   "cell_type": "code",
   "execution_count": 27,
   "id": "3d8a9565",
   "metadata": {},
   "outputs": [
    {
     "name": "stderr",
     "output_type": "stream",
     "text": [
      "No model was supplied, defaulted to dbmdz/bert-large-cased-finetuned-conll03-english and revision 4c53496 (https://huggingface.co/dbmdz/bert-large-cased-finetuned-conll03-english).\n",
      "Using a pipeline without specifying a model name and revision in production is not recommended.\n",
      "Some weights of the model checkpoint at dbmdz/bert-large-cased-finetuned-conll03-english were not used when initializing BertForTokenClassification: ['bert.pooler.dense.bias', 'bert.pooler.dense.weight']\n",
      "- This IS expected if you are initializing BertForTokenClassification from the checkpoint of a model trained on another task or with another architecture (e.g. initializing a BertForSequenceClassification model from a BertForPreTraining model).\n",
      "- This IS NOT expected if you are initializing BertForTokenClassification from the checkpoint of a model that you expect to be exactly identical (initializing a BertForSequenceClassification model from a BertForSequenceClassification model).\n",
      "Device set to use cpu\n"
     ]
    },
    {
     "data": {
      "text/plain": [
       "[{'entity_group': 'PER',\n",
       "  'score': np.float32(0.8230094),\n",
       "  'word': 'Luis',\n",
       "  'start': 14,\n",
       "  'end': 18},\n",
       " {'entity_group': 'PER',\n",
       "  'score': np.float32(0.4307262),\n",
       "  'word': '##o',\n",
       "  'start': 27,\n",
       "  'end': 28},\n",
       " {'entity_group': 'ORG',\n",
       "  'score': np.float32(0.87800765),\n",
       "  'word': 'Warner Bros. Soy de',\n",
       "  'start': 42,\n",
       "  'end': 61},\n",
       " {'entity_group': 'LOC',\n",
       "  'score': np.float32(0.79834616),\n",
       "  'word': 'Peru',\n",
       "  'start': 62,\n",
       "  'end': 66}]"
      ]
     },
     "execution_count": 27,
     "metadata": {},
     "output_type": "execute_result"
    }
   ],
   "source": [
    "ner_2 = pipeline('ner',grouped_entities=True)\n",
    "ner_2(' Mi nombre es Luis y trabajo en el parque Warner Bros. Soy de Peru')"
   ]
  }
 ],
 "metadata": {
  "kernelspec": {
   "display_name": "env313",
   "language": "python",
   "name": "python3"
  },
  "language_info": {
   "codemirror_mode": {
    "name": "ipython",
    "version": 3
   },
   "file_extension": ".py",
   "mimetype": "text/x-python",
   "name": "python",
   "nbconvert_exporter": "python",
   "pygments_lexer": "ipython3",
   "version": "3.13.6"
  }
 },
 "nbformat": 4,
 "nbformat_minor": 5
}
