{
 "cells": [
  {
   "cell_type": "code",
   "execution_count": 1,
   "id": "f6247556",
   "metadata": {},
   "outputs": [
    {
     "data": {
      "text/html": [
       "<div>\n",
       "<style scoped>\n",
       "    .dataframe tbody tr th:only-of-type {\n",
       "        vertical-align: middle;\n",
       "    }\n",
       "\n",
       "    .dataframe tbody tr th {\n",
       "        vertical-align: top;\n",
       "    }\n",
       "\n",
       "    .dataframe thead th {\n",
       "        text-align: right;\n",
       "    }\n",
       "</style>\n",
       "<table border=\"1\" class=\"dataframe\">\n",
       "  <thead>\n",
       "    <tr style=\"text-align: right;\">\n",
       "      <th></th>\n",
       "      <th>ubicacion</th>\n",
       "      <th>tamano_hogar</th>\n",
       "      <th>costo_instalacion</th>\n",
       "      <th>energia_generada</th>\n",
       "      <th>ahorro_real</th>\n",
       "    </tr>\n",
       "  </thead>\n",
       "  <tbody>\n",
       "    <tr>\n",
       "      <th>0</th>\n",
       "      <td>zona_1</td>\n",
       "      <td>3</td>\n",
       "      <td>5000</td>\n",
       "      <td>3000</td>\n",
       "      <td>1800</td>\n",
       "    </tr>\n",
       "    <tr>\n",
       "      <th>1</th>\n",
       "      <td>zona_2</td>\n",
       "      <td>4</td>\n",
       "      <td>6000</td>\n",
       "      <td>3200</td>\n",
       "      <td>2000</td>\n",
       "    </tr>\n",
       "    <tr>\n",
       "      <th>2</th>\n",
       "      <td>zona_1</td>\n",
       "      <td>2</td>\n",
       "      <td>4500</td>\n",
       "      <td>2500</td>\n",
       "      <td>1500</td>\n",
       "    </tr>\n",
       "    <tr>\n",
       "      <th>3</th>\n",
       "      <td>zona_3</td>\n",
       "      <td>5</td>\n",
       "      <td>7000</td>\n",
       "      <td>4000</td>\n",
       "      <td>2300</td>\n",
       "    </tr>\n",
       "    <tr>\n",
       "      <th>4</th>\n",
       "      <td>zona_2</td>\n",
       "      <td>3</td>\n",
       "      <td>5200</td>\n",
       "      <td>2900</td>\n",
       "      <td>1750</td>\n",
       "    </tr>\n",
       "  </tbody>\n",
       "</table>\n",
       "</div>"
      ],
      "text/plain": [
       "  ubicacion  tamano_hogar  costo_instalacion  energia_generada  ahorro_real\n",
       "0    zona_1             3               5000              3000         1800\n",
       "1    zona_2             4               6000              3200         2000\n",
       "2    zona_1             2               4500              2500         1500\n",
       "3    zona_3             5               7000              4000         2300\n",
       "4    zona_2             3               5200              2900         1750"
      ]
     },
     "execution_count": 1,
     "metadata": {},
     "output_type": "execute_result"
    }
   ],
   "source": [
    "import pandas as pd\n",
    "from sklearn.linear_model import LinearRegression\n",
    "from sklearn.model_selection import train_test_split\n",
    "import pickle\n",
    "data ={\n",
    "    'ubicacion':['zona_1','zona_2','zona_1','zona_3','zona_2'],\n",
    "    'tamano_hogar':[3,4,2,5,3],\n",
    "    'costo_instalacion':[5000,6000,4500,7000,5200],\n",
    "    'energia_generada':[3000,3200,2500,4000,2900],\n",
    "    'ahorro_real':[1800,2000,1500,2300,1750]\n",
    "}\n",
    "df =pd.DataFrame(data)\n",
    "df"
   ]
  }
 ],
 "metadata": {
  "kernelspec": {
   "display_name": "env313",
   "language": "python",
   "name": "python3"
  },
  "language_info": {
   "codemirror_mode": {
    "name": "ipython",
    "version": 3
   },
   "file_extension": ".py",
   "mimetype": "text/x-python",
   "name": "python",
   "nbconvert_exporter": "python",
   "pygments_lexer": "ipython3",
   "version": "3.13.6"
  }
 },
 "nbformat": 4,
 "nbformat_minor": 5
}
