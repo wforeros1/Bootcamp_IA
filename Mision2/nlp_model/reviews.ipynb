{
 "cells": [
  {
   "cell_type": "code",
   "execution_count": 17,
   "id": "a8859fb2",
   "metadata": {},
   "outputs": [],
   "source": [
    "from transformers import AutoModelForSequenceClassification,AutoTokenizer"
   ]
  },
  {
   "cell_type": "code",
   "execution_count": 18,
   "id": "707b243e",
   "metadata": {},
   "outputs": [
    {
     "name": "stdout",
     "output_type": "stream",
     "text": [
      "{'input_ids': tensor([[  101, 10106, 15141, 10565, 13565, 31261, 11522,   102]]), 'token_type_ids': tensor([[0, 0, 0, 0, 0, 0, 0, 0]]), 'attention_mask': tensor([[1, 1, 1, 1, 1, 1, 1, 1]])}\n"
     ]
    }
   ],
   "source": [
    "model_id='nlptown/bert-base-multilingual-uncased-sentiment'\n",
    "model=AutoModelForSequenceClassification.from_pretrained(model_id)\n",
    "tokenizer=AutoTokenizer.from_pretrained(model_id)\n",
    "text=\"La película fue increíble\"\n",
    "input = tokenizer(text,return_tensors='pt')\n",
    "print(input)"
   ]
  },
  {
   "cell_type": "code",
   "execution_count": 19,
   "id": "1922b3e6",
   "metadata": {},
   "outputs": [],
   "source": [
    "import torch\n",
    "text_tokenizado={'input_ids': torch.tensor([[  101, 10106, 15141, 10565, 13565, 31261, 11522,   102]]),\n",
    "                'token_type_ids': torch.tensor([[0, 0, 0, 0, 0, 0, 0, 0]]),\n",
    "                'attention_mask': torch.tensor([[1, 1, 1, 1, 1, 1, 1, 1]])}"
   ]
  },
  {
   "cell_type": "code",
   "execution_count": 20,
   "id": "7dca47b3",
   "metadata": {},
   "outputs": [
    {
     "name": "stdout",
     "output_type": "stream",
     "text": [
      "SequenceClassifierOutput(loss=None, logits=tensor([[-1.4777, -1.2920, -0.1512,  0.7266,  1.8722]],\n",
      "       grad_fn=<AddmmBackward0>), hidden_states=None, attentions=None)\n"
     ]
    }
   ],
   "source": [
    "output = model(**input)\n",
    "print(output)"
   ]
  },
  {
   "cell_type": "code",
   "execution_count": 21,
   "id": "a0dee855",
   "metadata": {},
   "outputs": [
    {
     "name": "stdout",
     "output_type": "stream",
     "text": [
      "tensor([[0.0230, 0.0277, 0.0865, 0.2082, 0.6546]], grad_fn=<SoftmaxBackward0>)\n"
     ]
    }
   ],
   "source": [
    "logits = output.logits\n",
    "probabilities = torch.nn.functional.softmax(logits,dim=-1)\n",
    "print(probabilities)"
   ]
  },
  {
   "cell_type": "code",
   "execution_count": 22,
   "id": "e25d7e7d",
   "metadata": {},
   "outputs": [
    {
     "name": "stdout",
     "output_type": "stream",
     "text": [
      "{0: '1 star', 1: '2 stars', 2: '3 stars', 3: '4 stars', 4: '5 stars'}\n"
     ]
    }
   ],
   "source": [
    "labels =model.config.id2label\n",
    "print(labels)"
   ]
  },
  {
   "cell_type": "code",
   "execution_count": 24,
   "id": "090661dd",
   "metadata": {},
   "outputs": [
    {
     "name": "stdout",
     "output_type": "stream",
     "text": [
      "5 stars:0.6546409130096436\n",
      "4 stars:0.20819082856178284\n",
      "3 stars:0.08654305338859558\n",
      "2 stars:0.02765653468668461\n",
      "1 star:0.022968629375100136\n"
     ]
    }
   ],
   "source": [
    "for i in range(probabilities.shape[-1]-1,-1,-1):\n",
    "    print(f'{labels[i]}:{probabilities[0][i]}')"
   ]
  },
  {
   "cell_type": "code",
   "execution_count": null,
   "id": "a2e3c156",
   "metadata": {},
   "outputs": [],
   "source": []
  }
 ],
 "metadata": {
  "kernelspec": {
   "display_name": "env313",
   "language": "python",
   "name": "python3"
  },
  "language_info": {
   "codemirror_mode": {
    "name": "ipython",
    "version": 3
   },
   "file_extension": ".py",
   "mimetype": "text/x-python",
   "name": "python",
   "nbconvert_exporter": "python",
   "pygments_lexer": "ipython3",
   "version": "3.13.6"
  }
 },
 "nbformat": 4,
 "nbformat_minor": 5
}
