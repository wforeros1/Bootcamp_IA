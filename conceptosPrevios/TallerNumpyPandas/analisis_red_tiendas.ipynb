{
 "cells": [
  {
   "cell_type": "markdown",
   "id": "d20617b9",
   "metadata": {},
   "source": []
  },
  {
   "cell_type": "code",
   "execution_count": null,
   "id": "3a4aae6a",
   "metadata": {},
   "outputs": [],
   "source": [
    "\n",
    "import pandas as pd\n",
    "import numpy as np\n",
    "import matplotlib.pyplot as plt\n",
    "\n",
    "inventory = pd.read_csv(\"inventarios.csv\")\n",
    "satisfaction = pd.read_csv(\"satisfaccion.csv\")\n",
    "sales = pd.read_csv(\"ventas.csv\")\n"
   ]
  },
  {
   "cell_type": "code",
   "execution_count": null,
   "id": "bb45b784",
   "metadata": {},
   "outputs": [],
   "source": [
    "print(\"===ventas===\")\n",
    "print(sales.head(10),\"\\n\")\n",
    "print(\"===inventarios===\")\n",
    "print(inventory.head(10),\"\\n\")\n",
    "print(\"===Satisfaccion===\")\n",
    "print(satisfaction.head(10),\"\\n\")"
   ]
  },
  {
   "cell_type": "code",
   "execution_count": null,
   "id": "e30fc615",
   "metadata": {},
   "outputs": [],
   "source": [
    "# limpiar datos\n",
    "\n",
    "sales = sales.dropna()\n",
    "inventory = inventory.dropna()\n",
    "satisfaction = inventory.dropna()"
   ]
  },
  {
   "cell_type": "code",
   "execution_count": null,
   "id": "1988136a",
   "metadata": {},
   "outputs": [],
   "source": [
    "# analisis de ventas totales\n",
    "sales[\"Ventas_totales\"]=sales[\"Cantidad_Vendida\"]*sales[\"Precio_Unitario\"]\n",
    "print(sales)\n",
    "ventas_totales=sales.groupby(\"ID_Tienda\")[\"Ventas_totales\"].sum().reset_index()\n",
    "print(ventas_totales)"
   ]
  },
  {
   "cell_type": "code",
   "execution_count": null,
   "id": "b30d804b",
   "metadata": {},
   "outputs": [
    {
     "name": "stdout",
     "output_type": "stream",
     "text": [
      "=======Ventas de Inventarios =========\n",
      "   ID_Tienda    Producto  Cantidad_Vendida  Precio_Unitario Fecha_Venta  \\\n",
      "0          1  Producto A                20              100  2023-01-05   \n",
      "1          1  Producto B                15              200  2023-01-06   \n",
      "2          2  Producto A                30              100  2023-01-07   \n",
      "3          2  Producto C                25              300  2023-01-08   \n",
      "4          3  Producto A                10              100  2023-01-09   \n",
      "5          3  Producto B                40              200  2023-01-10   \n",
      "6          4  Producto C                35              300  2023-01-11   \n",
      "7          4  Producto A                25              100  2023-01-12   \n",
      "8          5  Producto B                20              200  2023-01-13   \n",
      "9          5  Producto C                30              300  2023-01-14   \n",
      "\n",
      "   Ventas_totales  Stock_Disponible Fecha_Actualización  \n",
      "0            2000                50          2023-01-05  \n",
      "1            3000                40          2023-01-06  \n",
      "2            3000                60          2023-01-07  \n",
      "3            7500                45          2023-01-08  \n",
      "4            1000                30          2023-01-09  \n",
      "5            8000                80          2023-01-10  \n",
      "6           10500                70          2023-01-11  \n",
      "7            2500                50          2023-01-12  \n",
      "8            4000                40          2023-01-13  \n",
      "9            9000                60          2023-01-14  \n"
     ]
    }
   ],
   "source": [
    "# Rotacion de inventario\n",
    "ventas_inventarios=pd.merge(sales,inventory,on=[\"ID_Tienda\",\"Producto\"],how=\"inner\")\n",
    "#--------------------------------------------------------------------------------\n",
    "# on=[\"ID_tienda\",\"Producto\"] clave de union es obligatoria que exista en ambos df\n",
    "# how=\"inner\" solo conserva las filas que tiene coincidencias en ambos DF(interseccio)\n",
    "print(\"=======Ventas de Inventarios =========\")\n",
    "print(ventas_inventarios)\n",
    "ventas_inventarios[\"Rotacion_Inventario\"]=ventas_inventarios[\"Cantidad_Vendida\"]/ventas_inventarios[\"Stock_Disponible\"]\n",
    "print(ventas_inventarios)"
   ]
  },
  {
   "cell_type": "code",
   "execution_count": null,
   "id": "cceb1836",
   "metadata": {},
   "outputs": [],
   "source": []
  }
 ],
 "metadata": {
  "kernelspec": {
   "display_name": "env",
   "language": "python",
   "name": "python3"
  },
  "language_info": {
   "codemirror_mode": {
    "name": "ipython",
    "version": 3
   },
   "file_extension": ".py",
   "mimetype": "text/x-python",
   "name": "python",
   "nbconvert_exporter": "python",
   "pygments_lexer": "ipython3",
   "version": "3.13.6"
  }
 },
 "nbformat": 4,
 "nbformat_minor": 5
}
